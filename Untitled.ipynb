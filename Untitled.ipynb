{
 "cells": [
  {
   "cell_type": "markdown",
   "metadata": {},
   "source": [
    "# Primeiro Trabalho de Computação Evolutiva\n",
    "Neste trabalho iremos demonstrar os passos da aplicação do metodo científico na análise da evolução de coelhos utilizando o software Natural Selection 1.0.1.\n",
    "## Descrição do ambiente de testes\n",
    "### Ambiente\n",
    "    A evolução ocorrerá em dois ambientes, Ártico e Equador\n",
    "### Indivíduo\n",
    "    A observação dos indivíduos ocorrerá sobre três características, os Dentes, cor do Pelo e comprimento da Cauda.\n",
    "### Fator de Seleção\n",
    "    O fator que forçará a seleção de indivíduos mais adaptados serão a Comida, Lobos e Nenhum.\n",
    "\n",
    "## Problema\n",
    "\n",
    "## Hipotese\n",
    "\n",
    "## Experimento\n",
    "## Resultados\n",
    "## Conclusão"
   ]
  }
 ],
 "metadata": {
  "kernelspec": {
   "display_name": "Python 3",
   "language": "python",
   "name": "python3"
  },
  "language_info": {
   "codemirror_mode": {
    "name": "ipython",
    "version": 3
   },
   "file_extension": ".py",
   "mimetype": "text/x-python",
   "name": "python",
   "nbconvert_exporter": "python",
   "pygments_lexer": "ipython3",
   "version": "3.6.3"
  }
 },
 "nbformat": 4,
 "nbformat_minor": 2
}
